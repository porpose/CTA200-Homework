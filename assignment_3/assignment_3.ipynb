{
 "cells": [
  {
   "cell_type": "code",
   "execution_count": null,
   "id": "b1bb0b46",
   "metadata": {},
   "outputs": [],
   "source": [
    "import numpy as np\n",
    "import matplotlib.pyplot as plt\n",
    "import matplotlib\n",
    "from mandelbrot import compute"
   ]
  },
  {
   "cell_type": "code",
   "execution_count": null,
   "id": "55f9a0e0",
   "metadata": {},
   "outputs": [],
   "source": [
    "font = {'family' : 'DejaVu Sans',\n",
    "        'size'   : 15}\n",
    "\n",
    "matplotlib.rc('font', **font)"
   ]
  },
  {
   "cell_type": "markdown",
   "id": "86d6db78",
   "metadata": {},
   "source": [
    "I originally thought about saving output figures as .pdf, but I found that seem to take too long somehow. I eventually saved all figures as .png format."
   ]
  },
  {
   "cell_type": "markdown",
   "id": "e3700ce4",
   "metadata": {},
   "source": [
    "# Question 1"
   ]
  },
  {
   "cell_type": "code",
   "execution_count": null,
   "id": "ce87fd78",
   "metadata": {},
   "outputs": [],
   "source": [
    "x, y = np.linspace(-2, 2, 1000), np.linspace(-2, 2, 1000)"
   ]
  },
  {
   "cell_type": "code",
   "execution_count": null,
   "id": "3cfdda4d",
   "metadata": {},
   "outputs": [],
   "source": [
    "fig = plt.figure(figsize = (8, 8))\n",
    "plt.pcolormesh(x, y, compute(2, 0))\n",
    "plt.xlabel(\"Real axis\")\n",
    "plt.ylabel(\"Imaginary axis\")\n",
    "plt.savefig('Figure_1.png', dpi=600, bbox_inches='tight')"
   ]
  },
  {
   "cell_type": "code",
   "execution_count": null,
   "id": "be8123f4",
   "metadata": {},
   "outputs": [],
   "source": [
    "fig = plt.figure(figsize = (10, 8))\n",
    "h = plt.pcolormesh(x, y, compute(2, 1))\n",
    "plt.colorbar()\n",
    "fig.text(0.89, 0.5, 'Number of iterations to diverge', ha='center', va='center', rotation=270)\n",
    "plt.xlabel(\"Real axis\")\n",
    "plt.ylabel(\"Imaginary axis\")\n",
    "plt.savefig('Figure_2.png', dpi=600, bbox_inches='tight')"
   ]
  },
  {
   "cell_type": "markdown",
   "id": "400e81fd",
   "metadata": {},
   "source": [
    "# Question 2"
   ]
  },
  {
   "cell_type": "code",
   "execution_count": null,
   "id": "8653cfb0",
   "metadata": {},
   "outputs": [],
   "source": [
    "def odes(v, t, sigma, r, b):\n",
    "    \"\"\"Returns the coupled system of ODEs, given the time array and other parameters.\n",
    "\n",
    "    Parameters\n",
    "    ----------\n",
    "    v: array-like\n",
    "        The array containing the final solutions.\n",
    "        \n",
    "    t: array-like\n",
    "        Time array to be put into the integrator.\n",
    "        \n",
    "    sigma: float\n",
    "        The dimensionless Prandtl number (the ratio of the kinematic viscosity to the\n",
    "        thermal diffusivity).  and b, which is a dimensionless length scale\n",
    "\n",
    "    r: float\n",
    "        The Rayleigh number r, which depends on the vertical temperature difference\n",
    "        between the top and bottom of the atmosphere.\n",
    "        \n",
    "    b: float\n",
    "        A dimensionless length scale. \n",
    "\n",
    "    Returns\n",
    "    -------\n",
    "    [dxdt, dydt, dzdt]\n",
    "        The defined coupled ODEs.\n",
    "    \"\"\"\n",
    "\n",
    "    # assign each ODE to a vector element\n",
    "    x = v[0]\n",
    "    y = v[1]\n",
    "    z = v[2]\n",
    "\n",
    "    # define each ODE\n",
    "    dxdt = -sigma * (x - y)\n",
    "    dydt = r*x - y - x*z\n",
    "    dzdt = -b*z + x*y\n",
    "    \n",
    "    return [dxdt, dydt, dzdt]"
   ]
  },
  {
   "cell_type": "code",
   "execution_count": null,
   "id": "a912181e",
   "metadata": {},
   "outputs": [],
   "source": [
    "from scipy.integrate import odeint\n",
    "\n",
    "w0 = [0., 1., 0.] # initial conditions\n",
    "parameters = (10., 28, 8./3.)\n",
    "\n",
    "times = np.linspace(0., 60, 6000)    \n",
    "w = odeint(odes, w0, times, args = parameters)\n",
    "\n",
    "x = w[:,0]\n",
    "y = w[:,1]\n",
    "z = w[:,2]"
   ]
  },
  {
   "cell_type": "code",
   "execution_count": null,
   "id": "9f5f4cb2",
   "metadata": {},
   "outputs": [],
   "source": [
    "fig, axs = plt.subplots(3, figsize=(12, 8))\n",
    "plt.xlabel(\"time ($t/\\Delta t$)\", fontsize = 20)\n",
    "fig.text(0.08, 0.5, '$Y$', ha='center', va='center', rotation='vertical', fontsize = 20)\n",
    "\n",
    "axs[0].plot(y[:1000])\n",
    "axs[0].axvline(0, color = \"black\")\n",
    "axs[0].axhline(0, color = \"black\")\n",
    "axs[1].plot(np.arange(1000, 2000), y[1000:2000])\n",
    "axs[1].axhline(0, color = \"black\")\n",
    "axs[2].plot(np.arange(2000, 3000), y[2000:3000])\n",
    "axs[2].axhline(0, color = \"black\")\n",
    "plt.savefig('Figure_3.png', dpi=600, bbox_inches='tight')"
   ]
  },
  {
   "cell_type": "code",
   "execution_count": null,
   "id": "c94bfeb7",
   "metadata": {},
   "outputs": [],
   "source": [
    "fig, axs = plt.subplots(2, figsize=(8, 12))\n",
    "\n",
    "axs[0].plot(y[1400:1900], z[1400:1900])\n",
    "axs[0].axvline(0, color = \"black\")\n",
    "axs[0].axhline(0, color = \"black\")\n",
    "axs[0].set_ylabel(\"$Z$\", fontsize = 20)\n",
    "\n",
    "axs[1].plot(y[1400:1900], x[1400:1900])\n",
    "axs[1].axvline(0, color = \"black\")\n",
    "axs[1].axhline(0, color = \"black\")\n",
    "axs[1].set_ylabel(\"$X$\", fontsize = 20)\n",
    "axs[1].set_xlabel(\"$Y$\", fontsize = 20)\n",
    "plt.gca().invert_yaxis()\n",
    "plt.savefig('Figure_4.png', dpi=600, bbox_inches='tight')"
   ]
  },
  {
   "cell_type": "markdown",
   "id": "ef00e0da",
   "metadata": {},
   "source": [
    "### modified initial conditions"
   ]
  },
  {
   "cell_type": "code",
   "execution_count": null,
   "id": "5406df0d",
   "metadata": {},
   "outputs": [],
   "source": [
    "w0_prime = [sum(x) for x in zip(w0, [0., 1.e-8, 0.])] # modified initial conditions\n",
    "  \n",
    "w_2 = odeint(odes, w0_prime, times, args = parameters)\n",
    "x_2 = w_2[:,0]\n",
    "y_2 = w_2[:,1]\n",
    "z_2 = w_2[:,2]"
   ]
  },
  {
   "cell_type": "code",
   "execution_count": null,
   "id": "02dd045c",
   "metadata": {},
   "outputs": [],
   "source": [
    "fig, axs = plt.subplots(3, figsize=(12, 8))\n",
    "plt.xlabel(\"time ($t/\\Delta t$)\", fontsize = 20)\n",
    "\n",
    "axs[0].plot(x - x_2)\n",
    "axs[0].set_yscale(\"log\")\n",
    "axs[0].set_ylabel(\"$\\Delta X$\")\n",
    "axs[1].plot(y - y_2)\n",
    "axs[1].set_yscale(\"log\")\n",
    "axs[1].set_ylabel(\"$\\Delta Y$\")\n",
    "axs[2].plot(z - z_2)\n",
    "axs[2].set_ylabel(\"$\\Delta Z$\")\n",
    "plt.yscale(\"log\")\n",
    "plt.savefig('Figure_5.png', dpi=600, bbox_inches='tight')"
   ]
  }
 ],
 "metadata": {
  "interpreter": {
   "hash": "01243ac5d623bebf29a8c0d59b402409700b8ca279520c1410346fbc93e320f7"
  },
  "kernelspec": {
   "display_name": "Python 3.8.0 64-bit",
   "language": "python",
   "name": "python3"
  },
  "language_info": {
   "codemirror_mode": {
    "name": "ipython",
    "version": 3
   },
   "file_extension": ".py",
   "mimetype": "text/x-python",
   "name": "python",
   "nbconvert_exporter": "python",
   "pygments_lexer": "ipython3",
   "version": "3.8.0"
  }
 },
 "nbformat": 4,
 "nbformat_minor": 5
}
